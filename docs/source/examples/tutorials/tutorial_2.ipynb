{
 "cells": [
  {
   "cell_type": "markdown",
   "id": "e85060a1-7554-48ae-8e99-800fa67fa0bd",
   "metadata": {},
   "source": [
    "# MuonDataLib Tutorial 2: Viewing Histograms\n",
    "\n",
    "In this tutorial we will load some data from the archive and then view some of the histograms. This can be used to check that the count data looks about right before creating the histogram nexus file. \n",
    "\n",
    "The data shown in the plots, and written to the histogram nexus files, is referred to as histograms. However, strictly speaking they are bar charts as they do not include the normalisation by bin width (this is applied in the analysis software). They are still called histograms because that is the expected terminology. \n",
    "\n",
    "To start lets load the example and plot a pair of histograms."
   ]
  },
  {
   "cell_type": "code",
   "execution_count": null,
   "id": "c324055b-f004-44c6-b512-4df0fcb479af",
   "metadata": {},
   "outputs": [],
   "source": [
    "from MuonDataLib.data.loader.load_events import load_events\n",
    "from MuonDataLib.plot.basic import Figure\n",
    "import os\n",
    "\n",
    "file_name = 'HIFI00195790.nxs'\n",
    "input_file = os.path.join('..', '..', '..', '..', 'test', 'data_files', file_name)\n",
    "\n",
    "data = load_events(input_file, 64)\n",
    "\n",
    "hist, bins = data.histogram()\n",
    "fig = Figure(y_label='Counts')\n",
    "fig.plot_from_histogram(bins, hist, [10, 21], label='Period 1, ', period=1)\n",
    "fig.plot_from_histogram(bins, hist, [10, 21], label='Period 2, ', period=2)\n",
    "fig.show()\n"
   ]
  },
  {
   "cell_type": "markdown",
   "id": "3cabf672-0118-4f03-b7df-d35a542810b9",
   "metadata": {},
   "source": [
    "The plot above is interactive, you can show/hide data by clicking on it in the legend.\n",
    "\n",
    "To get more data, the archive is needed. On IDAaaS you need to open file explorer and go to ` smb://ISISARVR55.isis.cclrc.ac.uk/SuperMusrTestDataBackup$/incoming/hifi`. It will require your username (fed ID), domain (clrc) and password. Then you can copy your file to your local directory. \n",
    "\n",
    "The following code creates a histogram with custom resolution (bin width), plots and saves the data to a histogram nexus file (with the new resolution)."
   ]
  },
  {
   "cell_type": "code",
   "execution_count": null,
   "id": "7c40624e-f0d8-45af-a7e3-dadd5a80b3df",
   "metadata": {},
   "outputs": [],
   "source": [
    "hist, bins = data.histogram(resolution=0.1)\n",
    "fig = Figure(y_label='Counts')\n",
    "fig.plot_from_histogram(bins, hist, [10, 21], label='Period 1, ', period=1)\n",
    "fig.plot_from_histogram(bins, hist, [10, 21], label='Period 2, ', period=2)\n",
    "fig.show()"
   ]
  },
  {
   "cell_type": "code",
   "execution_count": null,
   "id": "2d66371f-9323-4a60-b563-4ce6d5eadab6",
   "metadata": {},
   "outputs": [],
   "source": [
    "output_file = os.path.join('..', 'Output_files', 'HIFI00193325.nxs')\n",
    "data.save_histograms(output_file)"
   ]
  }
 ],
 "metadata": {
  "kernelspec": {
   "display_name": "Python 3 (ipykernel)",
   "language": "python",
   "name": "python3"
  },
  "language_info": {
   "codemirror_mode": {
    "name": "ipython",
    "version": 3
   },
   "file_extension": ".py",
   "mimetype": "text/x-python",
   "name": "python",
   "nbconvert_exporter": "python",
   "pygments_lexer": "ipython3",
   "version": "3.12.5"
  }
 },
 "nbformat": 4,
 "nbformat_minor": 5
}
