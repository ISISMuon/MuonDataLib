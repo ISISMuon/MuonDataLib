{
 "cells": [
  {
   "cell_type": "markdown",
   "id": "1a7118fc-0e6c-4376-9888-f526f1838b42",
   "metadata": {},
   "source": [
    "# MuonDataLib Tutorial 3: Filtering\n"
   ]
  },
  {
   "cell_type": "markdown",
   "id": "e4706a89-6c64-4125-948b-00dd82de4e14",
   "metadata": {},
   "source": [
    "One of the key advantages of event data is the option to create histograms from a subset of the information. Typically this is done based on the values of sample logs. \n",
    "\n",
    "## Sample logs\n",
    "\n",
    "The sample logs will automatically be loaded if they are present in the event nexus file. However, if they are missing it is possible to add them manually. \n",
    "In this example we will load some data, then create a pair of sample logs:\n",
    "\n",
    "- An oscillation in the temperature\n",
    "- A linear field\n",
    "\n",
    "The first step is to create the simulated log values"
   ]
  },
  {
   "cell_type": "code",
   "execution_count": null,
   "id": "816e1ddd-6261-425c-a574-25470748a29a",
   "metadata": {},
   "outputs": [],
   "source": [
    "import numpy as np\n",
    "\n",
    "def linear(x, m, c):\n",
    "    return m*x + c\n",
    "\n",
    "def osc(x, amp, omega, phi):\n",
    "    return amp*np.sin(omega*x + phi)"
   ]
  },
  {
   "cell_type": "markdown",
   "id": "29ac0892-633d-4a8d-ac85-b8fcce76ad4e",
   "metadata": {},
   "source": [
    "Next we will need to load the data."
   ]
  },
  {
   "cell_type": "code",
   "execution_count": null,
   "id": "9279a747-96b0-4a72-a466-ef32480709a7",
   "metadata": {},
   "outputs": [],
   "source": [
    "from MuonDataLib.data.loader.load_events import load_events\n",
    "from MuonDataLib.plot.basic import Figure\n",
    "import os\n",
    "\n",
    "file_name = 'HIFI00195790.nxs'\n",
    "input_file = os.path.join('..', '..', '..', '..', 'test', 'data_files', file_name)\n",
    "data = load_events(input_file, 64)\n"
   ]
  },
  {
   "cell_type": "markdown",
   "id": "48f08ba5-bf7b-464f-b4ee-e18dd5ffb84c",
   "metadata": {},
   "source": [
    "To create simulated data that matches the actual data, we need to know when each frame of data starts. The `get_frame_start_times` method provides a list of the start times in seconds."
   ]
  },
  {
   "cell_type": "code",
   "execution_count": null,
   "id": "8ef10f7c-64bc-414f-ab52-42181aa3d200",
   "metadata": {},
   "outputs": [],
   "source": [
    "frame_start_times = data.get_frame_start_times()\n",
    "print(frame_start_times)"
   ]
  },
  {
   "cell_type": "markdown",
   "id": "7bc3fc31-1f12-4458-89a1-dd6e7e09b23e",
   "metadata": {},
   "source": [
    "From the frame start times we can see that the first frame is from $0$ until $0.02$ seconds. We can also see that the last frame starts at $1345$ seconds. Now we will create the simulated sample logs (includes random noise), which includes $100$ measurments across the whole collection period."
   ]
  },
  {
   "cell_type": "code",
   "execution_count": null,
   "id": "f5d49448-c758-4a13-9c21-a82f214ee4fe",
   "metadata": {},
   "outputs": [],
   "source": [
    "from MuonDataLib.data.utils import create_data_from_function\n",
    "from MuonDataLib.plot.basic import Figure\n",
    "\n",
    "start = frame_start_times[0]\n",
    "end = frame_start_times[-1]+1\n",
    "step = (frame_start_times[-1]-frame_start_times[0])/100\n",
    "\n",
    "x, y = create_data_from_function(start, end, step, [3, 6.1, 0.91], osc, seed=1)\n",
    "data.add_sample_log(\"Temp\", x, y)\n",
    "fig = Figure(y_label='Temp')\n",
    "fig.plot(x, y, 'Temp data')\n",
    "fig.show()\n",
    "\n",
    "x, y = create_data_from_function(start, end, step, [3.1, 0.1], linear, seed=1)\n",
    "data.add_sample_log(\"field\", x, y)\n",
    "fig2 = Figure(y_label='Field')\n",
    "fig2.plot(x, y, 'Field data')\n",
    "fig2.show()"
   ]
  },
  {
   "cell_type": "markdown",
   "id": "f3657b90-f2b6-49f1-ad3c-c29fe336340f",
   "metadata": {},
   "source": [
    "The sample logs were added by the `data.add_sample_log` command. The arguments are the name of the sample log, the x (time in seconds) values and the y values. Now we have the sample log data we can look at the different types of filters. The two plots above will be helpful for creating sensible filters. Now lets look at some unfiltered histogram data."
   ]
  },
  {
   "cell_type": "code",
   "execution_count": null,
   "id": "2e9164ba-46ab-4277-8189-8e69b606dadc",
   "metadata": {},
   "outputs": [],
   "source": [
    "no_filter_hist, bins = data.histogram()\n",
    "fig = Figure(y_label='Counts')\n",
    "fig.plot_from_histogram(bins, no_filter_hist, [0])\n",
    "fig.show()"
   ]
  },
  {
   "cell_type": "markdown",
   "id": "34e7a894-447e-4839-81e8-65113dd5deed",
   "metadata": {},
   "source": [
    "## Sample log filters - Keeping data bove a threshold value\n",
    "\n",
    "The first type of filter we will look at is one that is directly applied based on a sample log value. To start lets remove all of the data corresponding to field value of less than six. "
   ]
  },
  {
   "cell_type": "code",
   "execution_count": null,
   "id": "c1ba64a6-bade-4df0-b329-9611059569ed",
   "metadata": {},
   "outputs": [],
   "source": [
    "data.keep_data_sample_log_above('field', 6.)"
   ]
  },
  {
   "cell_type": "markdown",
   "id": "b61f30dd-140f-4f7f-9471-f86dcaca8af6",
   "metadata": {},
   "source": [
    "The `keep_data_sample_log_above` command is used to add a filter, the first argument is the sample log name we want to apply the filter to and the second argument is the minimum value we want to keep. Lets compare the resultant histogram with the unfiltered data. \n"
   ]
  },
  {
   "cell_type": "code",
   "execution_count": null,
   "id": "3e1cc928-47c1-4b36-848b-f6249b7f08de",
   "metadata": {},
   "outputs": [],
   "source": [
    "hist_above_6, bins = data.histogram()\n",
    "fig = Figure(y_label='Counts')\n",
    "fig.plot_from_histogram(bins, no_filter_hist, [0], 'unfiltered, ')\n",
    "fig.plot_from_histogram(bins, hist_above_6, [0], 'field >=6, ')\n",
    "fig.show()"
   ]
  },
  {
   "cell_type": "markdown",
   "id": "bb52e27e-c50f-4342-86fd-2709a69a150b",
   "metadata": {},
   "source": [
    "We can see that the filter has removed some counts, as expected. However, we may want to check that the filter has behaved as expected. To plot the original and filtered sample log data;"
   ]
  },
  {
   "cell_type": "code",
   "execution_count": null,
   "id": "ad24827c-78ca-4eca-9eae-eca7a04933cf",
   "metadata": {},
   "outputs": [],
   "source": [
    "fig = Figure(y_label='field')\n",
    "\n",
    "field_log = data.get_sample_log('field')\n",
    "x0, y0 = field_log.get_original_values()\n",
    "fig.plot(x, y, 'original data')\n",
    "x_filter, y_filter = field_log.get_values()\n",
    "fig.plot(x_filter, y_filter, 'filtered data')\n",
    "fig.show()\n"
   ]
  },
  {
   "cell_type": "markdown",
   "id": "5ee7a554-b929-44ff-a753-fb7b2bd3eb92",
   "metadata": {},
   "source": [
    "We can also check which data has been removed from the other sample log (Temp)"
   ]
  },
  {
   "cell_type": "code",
   "execution_count": null,
   "id": "a6ba6a85-a4ee-405a-a64b-d22a9a97d436",
   "metadata": {},
   "outputs": [],
   "source": [
    "fig = Figure(y_label='Temp')\n",
    "\n",
    "T_log = data.get_sample_log('Temp')\n",
    "x0, y0 = T_log.get_original_values()\n",
    "fig.plot(x, y, 'original data')\n",
    "x_filter, y_filter = T_log.get_values()\n",
    "fig.plot(x_filter, y_filter, 'filtered data')\n",
    "fig.show()"
   ]
  },
  {
   "cell_type": "markdown",
   "id": "1e50ad68-44bd-4227-9da3-de90329a4706",
   "metadata": {},
   "source": [
    "To replace a filter requires two steps. The first is to remove the original one using the `remove_time_filter` method, which takes the filter name as an argument. If the filter name does not exist it will produce an error. The second step is to add the filter with the correct values."
   ]
  },
  {
   "cell_type": "code",
   "execution_count": null,
   "id": "53b163b1-2ea6-4085-a22c-26a24cca94b0",
   "metadata": {},
   "outputs": [],
   "source": [
    "#data.remove_time_filter('early frames')\n",
    "#data.add_time_filter('early frames', 0.0, 100)"
   ]
  },
  {
   "cell_type": "markdown",
   "id": "49745b1d-b808-4150-a99d-62e1d2b0a944",
   "metadata": {},
   "source": [
    "To check that the filter has done something, we will produce a histogram of the data. "
   ]
  },
  {
   "cell_type": "code",
   "execution_count": null,
   "id": "d0eb4a8c-b721-48f1-b97b-12adcecf4870",
   "metadata": {},
   "outputs": [],
   "source": [
    "#filter_hist, bins = data._events.histogram()\n",
    "\n",
    "#fig = Figure(y_label='Counts')\n",
    "#fig.plot(bins, full_hist[21], label='unfiltered')\n",
    "#fig.plot(bins, filter_hist[21], label='filtered')\n",
    "#fig.show()"
   ]
  },
  {
   "cell_type": "markdown",
   "id": "c19f68f8-6075-4f98-a360-f9a85568f508",
   "metadata": {},
   "source": [
    "As you can see from the plot, the filtered data has a smaller amplitude as expected. \n",
    "\n",
    "It is also possible to get a summary of the current filters by using the `report_filters` method. If you want to remove all of the filters at once there is also a `clear_time_filters` method. The below code shows the summary before and after clearing the filters."
   ]
  },
  {
   "cell_type": "code",
   "execution_count": null,
   "id": "4a0174d9-2fb4-4062-b235-c0a27b2204ef",
   "metadata": {},
   "outputs": [],
   "source": [
    "#print('before clear:', data.report_filters())\n",
    "#data.clear_time_filters()\n",
    "#print('after clear:', data.report_filters())\n"
   ]
  },
  {
   "cell_type": "markdown",
   "id": "eb996223-ed46-460d-86e8-98d12ebaf0ff",
   "metadata": {},
   "source": [
    "For the next example we will add one filter that removes approximately half of the data. This can easily be done by halving the time for the start of the last frame (`frame_start_times[-1]`). We then plot the filtered and unfiltered data."
   ]
  },
  {
   "cell_type": "code",
   "execution_count": null,
   "id": "8ff34f33-e6e3-4ce1-a527-1a0f4e21bd3f",
   "metadata": {},
   "outputs": [],
   "source": [
    "#data.add_time_filter('half', 0, 0.5*frame_start_times[-1])\n",
    "#filter_hist, bins = data._events.histogram()\n",
    "\n",
    "#fig = Figure(y_label='Counts')\n",
    "#fig.plot(bins, full_hist[21], label='unfiltered')\n",
    "#fig.plot(bins, filter_hist[21], label='filtered')\n",
    "#fig.show()"
   ]
  },
  {
   "cell_type": "markdown",
   "id": "40e3175c-d941-4258-916e-d206ee5e3e80",
   "metadata": {},
   "source": [
    "Sometimes it could be helpful to save a complex series of filters to file, so it could be used at a later date. This can be achieved by using the `save_filters` method, which takes the name of the file you want to make as an argument. "
   ]
  },
  {
   "cell_type": "code",
   "execution_count": null,
   "id": "4455a2c6-f72b-450d-8632-fd7d04a30658",
   "metadata": {},
   "outputs": [],
   "source": [
    "#filter_file = os.path.join('..', 'Output_files', 'filters_tutorial_3.json')\n",
    "#data.save_filters(filter_file)\n",
    "#data.clear_time_filters()"
   ]
  },
  {
   "cell_type": "markdown",
   "id": "cb9b7d8e-7f9f-4785-bf3f-8522c9294580",
   "metadata": {},
   "source": [
    "The above also cleared the filters to make sure that the loading does not pick up any of the previous filters. \n",
    "The loading is done with the `load_filters` method, which takes a file name as an argument. As you can see it reproduces the filters as expected. "
   ]
  },
  {
   "cell_type": "code",
   "execution_count": null,
   "id": "97fa894f-8522-468b-904f-05d5f3e6d1f1",
   "metadata": {},
   "outputs": [],
   "source": [
    "#data.load_filters(filter_file)\n",
    "#print('loaded', data.report_filters())"
   ]
  }
 ],
 "metadata": {
  "kernelspec": {
   "display_name": "Python 3 (ipykernel)",
   "language": "python",
   "name": "python3"
  },
  "language_info": {
   "codemirror_mode": {
    "name": "ipython",
    "version": 3
   },
   "file_extension": ".py",
   "mimetype": "text/x-python",
   "name": "python",
   "nbconvert_exporter": "python",
   "pygments_lexer": "ipython3",
   "version": "3.12.5"
  }
 },
 "nbformat": 4,
 "nbformat_minor": 5
}
