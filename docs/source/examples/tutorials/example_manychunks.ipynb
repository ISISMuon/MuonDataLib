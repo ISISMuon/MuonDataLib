{
 "cells": [
  {
   "cell_type": "markdown",
   "id": "d772e9be-3780-49b6-a609-f0e0aabeade2",
   "metadata": {},
   "source": [
    "# MuonDataLib Example: Slicing data\n",
    "\n",
    "In this example we have a simple code for creating a series of histograms with differnt numbers of events.\n",
    "The data will have two filters applied, half at the start and the remainder at the end of the run.\n"
   ]
  },
  {
   "cell_type": "code",
   "execution_count": null,
   "id": "c0ff4b1f-327b-4825-98a8-6436fb65800e",
   "metadata": {
    "scrolled": true
   },
   "outputs": [],
   "source": [
    "from MuonDataLib.data.loader.load_events import load_events\n",
    "import os\n",
    "\n",
    "file_name = 'HIFI00195790.nxs'\n",
    "input_file = os.path.join('..', 'Data_files', file_name)\n",
    "\n",
    "data = load_events(input_file, 64)\n",
    "frame_start_times = data.get_frame_start_times()\n",
    "\n",
    "# approx length of 1 frame\n",
    "dt = frame_start_times[1] - frame_start_times[0] - 0.1\n",
    "\n",
    "total_time = frame_start_times[-1] + dt\n",
    "\n",
    "print(total_time)\n",
    "N_chunks = 100\n",
    "for chunk in range(N_chunks):\n",
    "    data.clear_time_filters()\n",
    "    slice_width = chunk * total_time / (2.*N_chunks)\n",
    "    if chunk > 0:\n",
    "        data.only_keep_data_time_between(f\"filter 1\", frame_start_times[0], slice_width) #, start_slice + chunk_size*total_time)\n",
    "        data.only_keep_data_time_between(f\"filter 2\", total_time - slice_width, total_time)\n",
    "    output_name = f'HIFI00195790_chunk{chunk+1}.nxs'\n",
    "    output_file = os.path.join('..', 'Output_files', output_name)\n",
    "    print(chunk, data.report_filters())\n",
    "    data.save_histograms(output_file)   "
   ]
  },
  {
   "cell_type": "code",
   "execution_count": null,
   "id": "081ae62c-2d1b-408a-be7c-58ab4df6deec",
   "metadata": {},
   "outputs": [],
   "source": [
    "# clean up\n",
    "for chunk in range(N_chunks):\n",
    "    output_name = f'HIFI00195790_chunk{chunk+1}.nxs'\n",
    "    output_file = os.path.join('..', 'Output_files', output_name)\n",
    "    os.remove(output_file)"
   ]
  }
 ],
 "metadata": {
  "kernelspec": {
   "display_name": "Python 3 (ipykernel)",
   "language": "python",
   "name": "python3"
  },
  "language_info": {
   "codemirror_mode": {
    "name": "ipython",
    "version": 3
   },
   "file_extension": ".py",
   "mimetype": "text/x-python",
   "name": "python",
   "nbconvert_exporter": "python",
   "pygments_lexer": "ipython3",
   "version": "3.12.5"
  }
 },
 "nbformat": 4,
 "nbformat_minor": 5
}
